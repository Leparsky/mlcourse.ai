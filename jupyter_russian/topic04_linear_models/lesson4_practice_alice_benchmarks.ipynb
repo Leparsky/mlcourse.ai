Jupyter Notebook
lesson4_practice_alice_benchmarks.ipynb
несколько секунд назад
Plain Text
File
Edit
View
Language

1
{
2
 "cells": [
3
  {
4
   "cell_type": "markdown",
5
   "metadata": {},
6
   "source": [
7
    "<center>\n",
8
    "<img src=\"../../img/ods_stickers.jpg\">\n",
9
    "## Открытый курс по машинному обучению. Сессия № 2\n",
10
    "</center>\n",
11
    "Автор материала: Юрий Исаков и Юрий Кашницкий. Материал распространяется на условиях лицензии [Creative Commons CC BY-NC-SA 4.0](https://creativecommons.org/licenses/by-nc-sa/4.0/). Можно использовать в любых целях (редактировать, поправлять и брать за основу), кроме коммерческих, но с обязательным упоминанием автора материала."
12
   ]
13
  },
14
  {
15
   "cell_type": "markdown",
16
   "metadata": {},
17
   "source": [
18
    "# <center>Тема 4. Линейные модели классификации и регрессии\n",
19
    "## <center>  Практика. Идентификация пользователя с помощью логистической регрессии\n",
20
    "\n",
21
    "Тут мы воспроизведем парочку бенчмарков нашего соревнования и вдохновимся побить третий бенчмарк, а также остальных участников. Веб-формы для отправки ответов тут не будет, ориентир – [leaderboard](https://www.kaggle.com/c/catch-me-if-you-can-intruder-detection-through-webpage-session-tracking2/leaderboard) соревнования."
22
   ]
23
  },
24
  {
25
   "cell_type": "code",
26
   "execution_count": 1,
27
   "metadata": {},
28
   "outputs": [],
29
   "source": [
30
    "import pickle\n",
31
    "import numpy as np\n",
32
    "import pandas as pd\n",
33
    "#from tqdm import tqdm_notebook\n",
34
    "from scipy.sparse import csr_matrix, hstack\n",
35
    "from sklearn.preprocessing import StandardScaler\n",
36
    "from sklearn.metrics import roc_auc_score\n",
37
    "from sklearn.linear_model import LogisticRegression\n",
38
    "%matplotlib inline\n",
39
    "from matplotlib import pyplot as plt\n",
40
    "import seaborn as sns"
41
   ]
42
  },
43
  {
44
   "cell_type": "markdown",
45
   "metadata": {},
46
   "source": [
47
    "### 1. Загрузка и преобразование данных\n",
48
    "Зарегистрируйтесь на [Kaggle](www.kaggle.com), если вы не сделали этого раньше, зайдите на [страницу](https://inclass.kaggle.com/c/catch-me-if-you-can-intruder-detection-through-webpage-session-tracking2) соревнования и скачайте данные. Первым делом загрузим обучающую и тестовую выборки и посмотрим на данные."
49
   ]
50
  },
51
  {
52
   "cell_type": "code",
53
   "execution_count": 2,
54
   "metadata": {},
55
   "outputs": [
56
    {
